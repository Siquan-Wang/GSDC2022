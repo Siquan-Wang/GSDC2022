{
  "nbformat": 4,
  "nbformat_minor": 0,
  "metadata": {
    "colab": {
      "name": "GSDC ensemble.ipynb",
      "provenance": []
    },
    "kernelspec": {
      "name": "python3",
      "display_name": "Python 3"
    },
    "language_info": {
      "name": "python"
    }
  },
  "cells": [
    {
      "cell_type": "code",
      "source": [
        "%%writefile wgs_ecef.py\n",
        "\"\"\"\n",
        "Convert between WGS and ECEF coordinates\n",
        "\n",
        "A python-numba implementation\n",
        "\n",
        "Algorithms from D. Rose:\n",
        "\"Converting between Earth-Centered, Earth Fixed and Geodetic Coordinates\"\n",
        "danceswithcode.net/engineeringnotes/geodetic_to_ecef/geodetic_to_ecef.html\n",
        "\n",
        "\n",
        "# WGS (World Geodetic System)\n",
        "wikipedia.org/wiki/World_Geodetic_System\n",
        "specifies longtide (degrees), latitude (degrees), and\n",
        "altitude (meters) above \"sea level\"\n",
        "\n",
        "\n",
        "# ECEF (Earth-Centered, Earth-Fixed)\n",
        "wikipedia.org/wiki/ECEF\n",
        "specifies three cartesian coordinates x, y, z (meters).\n",
        "\n",
        "\n",
        "# Example\n",
        "> check()\n",
        "passed all checks\n",
        "> ecef_to_wgs(-4e6, 3e6, 3.9467e6)\n",
        "(0.6714761701513846, 2.498091544796509, 61.58916153024969)\n",
        "> wgs_to_ecef(*ecef_to_wgs(-4e6, 3e6, 3.9467e6))\n",
        "(-4000000.0, 3000000.0, 3946700.0000000005)\n",
        "\n",
        "# See this notebook for more: TODO\n",
        "\n",
        "\"\"\"\n",
        "import math\n",
        "\n",
        "import numpy\n",
        "import numba\n",
        "\n",
        "\n",
        "\n",
        "# WGS-84 parameters: equatorial radius, squared eccentricity\n",
        "\n",
        "WGS_A = 6378137.0\n",
        "WGS_E2 = 6.6943799901377997e-3\n",
        "\n",
        "\n",
        "# The \"Google Smartphone Decimeter Challenge\" uses degrees; convert.\n",
        "\n",
        "RAD_TO_DEG = 180 / math.pi\n",
        "DEG_TO_RAD = math.pi / 180\n",
        "\n",
        "\n",
        "\n",
        "# Utilities\n",
        "\n",
        "def wgs_to_ecef(lat, lng, alt):\n",
        "    \"\"\" Return ECEF coordinates x, y, z.\n",
        "\n",
        "        Arguments:\n",
        "            lat, lng, alt:\n",
        "                WGS coordinates;\n",
        "                latitude in degrees,\n",
        "                longitude in degrees,\n",
        "                altitude in meters.\n",
        "                Optimized for float64 ndarrays of shape (n,),\n",
        "                but also accepts scalars.\n",
        "\n",
        "        Returns:\n",
        "            x, y, z:\n",
        "                ECEF coordinates in meters.\n",
        "                All have the same shape as inputs.\n",
        "    \"\"\"\n",
        "    lat = numpy.asarray(lat)\n",
        "    lng = numpy.asarray(lng)\n",
        "    alt = numpy.asarray(alt)\n",
        "    shape = lat.shape\n",
        "    assert shape == lng.shape == alt.shape\n",
        "\n",
        "    if shape == ():\n",
        "        return wgs_to_ecef_one(lat.item(), lng.item(), alt.item())\n",
        "\n",
        "    return wgs_to_ecef_vec(lat, lng, alt)\n",
        "\n",
        "\n",
        "def ecef_to_wgs(x, y, z):\n",
        "    \"\"\" Return WGS coordinates lat, lng, alt.\n",
        "\n",
        "        Arguments:\n",
        "            x, y, z:\n",
        "                ECEF coordinates in meters.\n",
        "                Optimized for float64 ndarrays of shape (n,),\n",
        "                but also accepts scalars.\n",
        "\n",
        "        Returns:\n",
        "            lat, lng, alt:\n",
        "                WGS coordinates;\n",
        "                latitude in degrees,\n",
        "                longitude in degrees,\n",
        "                altitude in meters.\n",
        "                All have the same shape as inputs.\n",
        "    \"\"\"\n",
        "    x = numpy.asarray(x)\n",
        "    y = numpy.asarray(y)\n",
        "    z = numpy.asarray(z)\n",
        "    shape = x.shape\n",
        "    assert shape == y.shape == z.shape\n",
        "\n",
        "    if shape == ():\n",
        "        return ecef_to_wgs_one(x.item(), y.item(), z.item())\n",
        "\n",
        "    return ecef_to_wgs_vec(x, y, z)\n",
        "\n",
        "\n",
        "\n",
        "# Implementation\n",
        "\n",
        "@numba.njit(\n",
        "    (numba.float64,) * 3,\n",
        "    fastmath={\"arcp\", \"contract\"})\n",
        "def wgs_to_ecef_one(lat, lng, alt):\n",
        "    \"\"\" Scalar implementation of wgs_to_ecef(...). \"\"\"\n",
        "    lat *= DEG_TO_RAD\n",
        "    lng *= DEG_TO_RAD\n",
        "\n",
        "    sinlat = numpy.sin(lat)\n",
        "    coslat = numpy.cos(lat)\n",
        "    n = WGS_A / (1 - WGS_E2*sinlat*sinlat)**0.5\n",
        "\n",
        "    x = (n + alt)*coslat*numpy.cos(lng)\n",
        "    y = (n + alt)*coslat*numpy.sin(lng)\n",
        "    z = (n*(1 - WGS_E2) + alt) * sinlat\n",
        "    return x, y, z\n",
        "\n",
        "\n",
        "@numba.njit(\n",
        "    (numba.float64,) * 3,\n",
        "    fastmath={\"arcp\", \"contract\"})\n",
        "def ecef_to_wgs_one(x, y, z):\n",
        "    \"\"\" Scalar implementation of ecef_to_wgs(...). \"\"\"\n",
        "    norm2 = 1 / (x*x + y*y + z*z)\n",
        "    norm = norm2 ** 0.5\n",
        "\n",
        "    waist = (x*x + y*y)**0.5\n",
        "    sin2 = z*z * norm2\n",
        "    cos2 = (x*x + y*y) * norm2\n",
        "\n",
        "    a1 = WGS_A*WGS_E2\n",
        "    u = a1*norm\n",
        "    v = 0.5*WGS_E2 - 2.5*a1*norm\n",
        "\n",
        "    if cos2 > 0.3:\n",
        "        sin_ = abs(z)*norm*(1 + norm*cos2*a1*(1 + u + sin2*v))\n",
        "        cos_ = (1 - sin_*sin_)**0.5\n",
        "        g = 1 / (1 - WGS_E2*sin_*sin_)\n",
        "        theta = numpy.arcsin(sin_)\n",
        "    else:\n",
        "        cos_ = waist*norm*(1 - norm*sin2*a1*(1 + 0.5*WGS_E2 - u - cos2*v))\n",
        "        sin_ = (1 - cos_*cos_)**0.5\n",
        "        g = 1 / (1 - WGS_E2*(1 - cos_*cos_))\n",
        "        theta = numpy.arccos(cos_)\n",
        "\n",
        "    rg = WGS_A * g**0.5\n",
        "    rf = (1 - WGS_E2)*rg\n",
        "    u = waist - cos_*rg\n",
        "    v = abs(z) - rf*sin_\n",
        "    f = cos_*u + sin_*v\n",
        "    m = cos_*v - sin_*u\n",
        "    p = m / (rf*g + f)\n",
        "\n",
        "    lat = (theta + p) * numpy.copysign(1, z) * RAD_TO_DEG\n",
        "    lng = numpy.arctan2(y, x) * RAD_TO_DEG\n",
        "    alt = f + m*p*0.5\n",
        "    return lat, lng, alt\n",
        "\n",
        "\n",
        "@numba.guvectorize(\n",
        "    [(numba.float64[:],) * 6],\n",
        "    \"(n),(n),(n)->(n),(n),(n)\",\n",
        "    fastmath={\"arcp\", \"contract\"})\n",
        "def wgs_to_ecef_vec(lat, lng, alt, x, y, z):\n",
        "    \"\"\" Vector implementation of ecef_to_wgs(...). \"\"\"\n",
        "    for i in range(lat.shape[0]):\n",
        "        x[i], y[i], z[i] = wgs_to_ecef_one(lat[i], lng[i], alt[i])\n",
        "\n",
        "\n",
        "@numba.guvectorize(\n",
        "    [(numba.float64[:],) * 6],\n",
        "    \"(n),(n),(n)->(n),(n),(n)\",\n",
        "    fastmath={\"arcp\", \"contract\"})\n",
        "def ecef_to_wgs_vec(x, y, z, lat, lng, alt):\n",
        "    \"\"\" Vector implementation of ecef_to_wgs(...). \"\"\"\n",
        "    for i in range(x.shape[0]):\n",
        "        lat[i], lng[i], alt[i] = ecef_to_wgs_one(x[i], y[i], z[i])\n",
        "\n",
        "\n",
        "\n",
        "# Testing\n",
        "\n",
        "def check():\n",
        "    \"\"\" Run all checks. \"\"\"\n",
        "    check_ecef_to_wgs(ecef_to_wgs)\n",
        "    check_wgs_to_ecef(wgs_to_ecef)\n",
        "    check_both(ecef_to_wgs, wgs_to_ecef)\n",
        "    print(\"passed all checks\")\n",
        "\n",
        "\n",
        "def check_ecef_to_wgs(func_check):\n",
        "    # check some examples\n",
        "    assert func_check(WGS_A, 0, 0) == (0, 0, 0)\n",
        "\n",
        "    points = [\n",
        "        (1e6, 1e6, 1e6),\n",
        "        (-1e6, 1e6, 1e6),\n",
        "        (1e6, -1e6, 1e6),\n",
        "        (1e6, 1e6, -1e6),\n",
        "    ]\n",
        "\n",
        "    for point in points:\n",
        "        numpy.testing.assert_allclose(\n",
        "            func_check(*point), ecef_to_wgs_ref(*point))\n",
        "\n",
        "    rng = numpy.random.Generator(numpy.random.Philox(1234))\n",
        "\n",
        "    for _ in range(10**3):\n",
        "        point = rng.normal(scale=6e6, size=3)\n",
        "        numpy.testing.assert_allclose(\n",
        "            func_check(*point), ecef_to_wgs_ref(*point))\n",
        "\n",
        "    # check vector-scalar equality\n",
        "    points = rng.normal(scale=6e6, size=(3, 10**3))\n",
        "    lats, lngs, alts = func_check(*points)\n",
        "\n",
        "    for lat, lng, alt, point in zip(lats, lngs, alts, points.T):\n",
        "        numpy.testing.assert_array_equal((lat, lng, alt), func_check(*point))\n",
        "\n",
        "\n",
        "def check_wgs_to_ecef(func_check):\n",
        "    # check some examples\n",
        "    assert func_check(0, 0, 0) == (WGS_A, 0, 0)\n",
        "\n",
        "    points = [\n",
        "        (1, 0.5, -50),\n",
        "        (1, 0.5, 0),\n",
        "        (1, 0., -50),\n",
        "        (0, 0.5, -50),\n",
        "    ]\n",
        "\n",
        "    for point in points:\n",
        "        numpy.testing.assert_allclose(\n",
        "            func_check(*point), wgs_to_ecef_ref(*point))\n",
        "\n",
        "    rng = numpy.random.Generator(numpy.random.Philox(1234))\n",
        "\n",
        "    for _ in range(10**3):\n",
        "        lat = numpy.arcsin(rng.uniform(-1, 1)) * RAD_TO_DEG\n",
        "        lng = rng.uniform(-180, 180)\n",
        "        alt = rng.uniform(-1e4, 1e4)\n",
        "        numpy.testing.assert_allclose(\n",
        "            func_check(lat, lng, alt), wgs_to_ecef_ref(lat, lng, alt))\n",
        "\n",
        "    # check vector-scalar equality\n",
        "    n = 10**3\n",
        "    lats = numpy.arcsin(rng.uniform(-1, 1, size=n)) * RAD_TO_DEG\n",
        "    lngs = rng.uniform(-180, 180, size=n)\n",
        "    alts = rng.uniform(-1e4, 1e4, size=n)\n",
        "    xs, ys, zs = func_check(lats, lngs, alts)\n",
        "\n",
        "    for x, y, z, lat, lng, alt in zip(xs, ys, zs, lats, lngs, alts):\n",
        "        numpy.testing.assert_array_equal((x, y, z), func_check(lat, lng, alt))\n",
        "\n",
        "\n",
        "def check_both(ecef_to_wgs_check, wgs_to_ecef_check):\n",
        "    rng = numpy.random.Generator(numpy.random.Philox(9))\n",
        "    n = 10**7\n",
        "\n",
        "    lat = numpy.arcsin(rng.uniform(-1, 1, size=n)) * RAD_TO_DEG\n",
        "    lng = rng.uniform(-180, 180, size=n)\n",
        "    # We lose accuracy for large negative altitudes, but\n",
        "    # earth's crust maxes out at 2e5 meters, which I don't\n",
        "    # think google are diving past just yet.\n",
        "    # (according to https://en.wikipedia.org/wiki/Structure_of_Earth)\n",
        "    alt = rng.uniform(-2e5, 1e7, size=n)\n",
        "\n",
        "    # there...\n",
        "    x, y, z = wgs_to_ecef_check(lat, lng, alt)\n",
        "    # ... and back ...\n",
        "    lat_, lng_, alt_ = ecef_to_wgs_check(x, y, z)\n",
        "    # ... and back again.\n",
        "    x_, y_, z_ = wgs_to_ecef_check(lat_, lng_, alt_)\n",
        "\n",
        "    numpy.testing.assert_allclose(lat, lat_)\n",
        "    numpy.testing.assert_allclose(lng, lng_)\n",
        "    numpy.testing.assert_allclose(alt, alt_)\n",
        "\n",
        "    numpy.testing.assert_allclose(x, x_)\n",
        "    numpy.testing.assert_allclose(y, y_)\n",
        "    numpy.testing.assert_allclose(z, z_)\n",
        "\n",
        "\n",
        "def wgs_to_ecef_ref(lat, lng, alt):\n",
        "    \"\"\" Reference implementation of wgs_to_ecef. \"\"\"\n",
        "    lat *= DEG_TO_RAD\n",
        "    lng *= DEG_TO_RAD\n",
        "\n",
        "    a = 6378137.0 # WGS-84 semi-major axis\n",
        "    e2 = 6.6943799901377997e-3 # WGS-84 first eccentricity squared\n",
        "    n = a / (1 - e2*numpy.sin(lat)*numpy.sin(lat))**0.5\n",
        "    x = (n + alt)*numpy.cos(lat)*numpy.cos(lng)\n",
        "    y = (n + alt)*numpy.cos(lat)*numpy.sin(lng)\n",
        "    z = (n*(1 - e2) + alt) * numpy.sin(lat)\n",
        "    return x, y, z\n",
        "\n",
        "\n",
        "def ecef_to_wgs_ref(x, y, z):\n",
        "    \"\"\" Reference implementation of ecef_to_wgs. \"\"\"\n",
        "    a = 6378137.0 # WGS-84 semi-major axis\n",
        "    e2 = 6.6943799901377997e-3 # WGS-84 first eccentricity squared\n",
        "    a1 = 4.2697672707157535e+4 # a1 = a*e2\n",
        "    a2 = 1.8230912546075455e+9 # a2 = a1*a1\n",
        "    a3 = 1.4291722289812413e+2 # a3 = a1*e2/2\n",
        "    a4 = 4.5577281365188637e+9 # a4 = 2.5*a2\n",
        "    a5 = 4.2840589930055659e+4 # a5 = a1+a3\n",
        "    a6 = 9.9330562000986220e-1 # a6 = 1-e2\n",
        "\n",
        "    zp = abs(z)\n",
        "    w2 = x*x + y*y\n",
        "    w = math.sqrt(w2)\n",
        "    r2 = w2 + z*z\n",
        "    r = math.sqrt(r2)\n",
        "    lng = math.atan2(y, x)\n",
        "    s2 = z*z/r2\n",
        "    c2 = w2/r2\n",
        "    u = a2/r\n",
        "    v = a3 - a4/r\n",
        "    if c2 > 0.3:\n",
        "        s = (zp / r)*(1.0 + c2*(a1 + u + s2*v)/r)\n",
        "        lat = math.asin(s)\n",
        "        ss = s*s\n",
        "        c = math.sqrt(1.0 - ss)\n",
        "    else:\n",
        "        c = (w / r)*(1.0 - s2*(a5 - u - c2*v)/r)\n",
        "        lat = math.acos(c)\n",
        "        ss = 1.0 - c*c\n",
        "        s = math.sqrt(ss)\n",
        "    g = 1.0 - e2*ss\n",
        "    rg = a/math.sqrt(g)\n",
        "    rf = a6*rg\n",
        "    u = w - rg*c\n",
        "    v = zp - rf*s\n",
        "    f = c*u + s*v\n",
        "    m = c*v - s*u\n",
        "    p = m/(rf/g + f)\n",
        "    lat = lat + p\n",
        "    alt = f + m*p*0.5\n",
        "    if z < 0.0:\n",
        "        lat = -lat\n",
        "\n",
        "    lat *= RAD_TO_DEG\n",
        "    lng *= RAD_TO_DEG\n",
        "    return lat, lng, alt\n",
        "\n",
        "\n",
        "\n",
        "# Benchmarking\n",
        "\n",
        "def make_benchmark_ecef_to_wgs(n):\n",
        "    rng = numpy.random.Generator(numpy.random.Philox(321))\n",
        "    points = rng.normal(scale=6e6, size=(n, 3))\n",
        "\n",
        "    def benchmark_one(ecef_to_wgs_func):\n",
        "        return [ecef_to_wgs_func(*point) for point in points]\n",
        "\n",
        "    def benchmark_vec(ecef_to_wgs_func):\n",
        "        return ecef_to_wgs_func(*points.T)\n",
        "\n",
        "    return benchmark_one, benchmark_vec\n",
        "\n",
        "\n",
        "def make_benchmark_wgs_to_ecef(n):\n",
        "    rng = numpy.random.Generator(numpy.random.Philox(321))\n",
        "\n",
        "    lat = numpy.arcsin(rng.uniform(-1, 1, size=n)) * RAD_TO_DEG\n",
        "    lng = rng.uniform(-180, 180, size=n)\n",
        "    alt = rng.uniform(-1e4, 1e4, size=n)\n",
        "\n",
        "    points = numpy.stack([lat, lng, alt])\n",
        "\n",
        "    def benchmark_one(wgs_to_ecef_func):\n",
        "        return [wgs_to_ecef_func(*point) for point in points.T]\n",
        "\n",
        "    def benchmark_vec(wgs_to_ecef_func):\n",
        "        return wgs_to_ecef_func(*points)\n",
        "\n",
        "    return benchmark_one, benchmark_vec"
      ],
      "metadata": {
        "colab": {
          "base_uri": "https://localhost:8080/"
        },
        "id": "lLWlEhUxMYSk",
        "outputId": "7c00a7ff-b531-4cec-9369-aa5fa2778b25"
      },
      "execution_count": 1,
      "outputs": [
        {
          "output_type": "stream",
          "name": "stdout",
          "text": [
            "Writing wgs_ecef.py\n"
          ]
        }
      ]
    },
    {
      "cell_type": "code",
      "execution_count": 2,
      "metadata": {
        "id": "uU9yi0qXL4WT"
      },
      "outputs": [],
      "source": [
        "import os\n",
        "import numpy\n",
        "import pandas\n",
        "import sys\n",
        "sys.path.append('./')\n",
        "import wgs_ecef\n",
        "\n",
        "import pandas as pd\n",
        "def blend(folder_to_weight):\n",
        "    \"\"\" Return a weighted mean of folders' submissions. \n",
        "    \n",
        "        Assumes equal ordering to submission files' rows.\n",
        "    \"\"\"\n",
        "    norm = sum(folder_to_weight.values())\n",
        "\n",
        "    def submissions():\n",
        "        for csv_dir, weight in folder_to_weight.items():\n",
        "            frame = pandas.read_csv(\n",
        "                csv_dir,\n",
        "                dtype={\n",
        "                    \"tripId\": str,\n",
        "                    \"UnixTimeMillis\": numpy.uint64,\n",
        "                    \"LatitudeDegrees\": numpy.float64,\n",
        "                    \"LongitudeDegrees\": numpy.float64,\n",
        "                })\n",
        "            yield frame, weight / norm\n",
        "\n",
        "    subs = submissions()\n",
        "\n",
        "    # add in ECEF coordinates at 0 altitude\n",
        "    example, weight = next(subs)\n",
        "    xyz = get_ecef(example) * weight\n",
        "\n",
        "    for frame, weight in subs:\n",
        "        xyz += get_ecef(frame) * weight\n",
        "\n",
        "    # convert back to WSG, update example in place\n",
        "    example.LatitudeDegrees, example.LongitudeDegrees, _ = wgs_ecef.ecef_to_wgs(*xyz)\n",
        "\n",
        "    return example\n",
        "\n",
        "\n",
        "def get_ecef(frame):\n",
        "    \"\"\" Return ECEF positions from frame WGS at sea level. \"\"\"\n",
        "    lat = frame.LatitudeDegrees\n",
        "    lng = frame.LongitudeDegrees\n",
        "    alt = numpy.zeros_like(frame.LatitudeDegrees)\n",
        "    return numpy.stack(wgs_ecef.wgs_to_ecef(lat, lng, alt))"
      ]
    },
    {
      "cell_type": "code",
      "source": [
        "submission = blend({\n",
        "    \"/content/submit_cv2_90_new.csv\": 0.7,\n",
        "    \"/content/submission_public_nb_lb300.csv\": 0.3,\n",
        "})"
      ],
      "metadata": {
        "id": "hrQao9_u3W7B"
      },
      "execution_count": 3,
      "outputs": []
    },
    {
      "cell_type": "code",
      "source": [
        "sub = pd.read_csv('/content/sample_submission.csv')\n",
        "sub = sub.assign(LatitudeDegrees=submission.LatitudeDegrees, LongitudeDegrees=submission.LongitudeDegrees)"
      ],
      "metadata": {
        "id": "dWyX-OJjgbna"
      },
      "execution_count": 4,
      "outputs": []
    },
    {
      "cell_type": "code",
      "source": [
        "sub.to_csv(\"submit_for_valid.csv\", index=False)"
      ],
      "metadata": {
        "id": "6OiQH8S7gbmA"
      },
      "execution_count": 5,
      "outputs": []
    },
    {
      "cell_type": "code",
      "source": [
        ""
      ],
      "metadata": {
        "id": "P5c6pUTKgbj6"
      },
      "execution_count": null,
      "outputs": []
    },
    {
      "cell_type": "code",
      "source": [
        "'''submission = blend({\n",
        "    \"/content/submit_cv2_95.csv\": 0.2,\n",
        "    \"/content/submit_cv365.csv\": 0.2,\n",
        "    \"/content/submit_cv3_00.csv\": 0.2,\n",
        "    \"/content/submit_cv3_11.csv\": 0.2,\n",
        "    \"/content/submit_cv3_30.csv\": 0.2,\n",
        "})'''\n",
        "submission = blend({\n",
        "    \"/content/submission_public_nb_lb300.csv\": 0.3,\n",
        "    \"/content/submit_cv365.csv\": 0.3,\n",
        "    \"/content/submit_cv3_30.csv\": 0.4,\n",
        "})"
      ],
      "metadata": {
        "id": "Rh0pnrJGL9da"
      },
      "execution_count": null,
      "outputs": []
    },
    {
      "cell_type": "code",
      "source": [
        "submission = blend({\n",
        "    \"/content/submit_cv3_11.csv\": 0.25,\n",
        "    \"/content/submit_cv365.csv\": 0.25,\n",
        "    \"/content/submit_lb267.csv\": 0.25,\n",
        "    \"/content/submit_cv3_30.csv\": 0.25,\n",
        "\n",
        "})"
      ],
      "metadata": {
        "id": "-7cja5pRpTpd"
      },
      "execution_count": null,
      "outputs": []
    },
    {
      "cell_type": "code",
      "source": [
        "submission = blend({\n",
        "    \"/content/submission_public_nb_lb300.csv\": 0.3,\n",
        "    \"/content/submit_cv365.csv\": 0.3,\n",
        "    \"/content/submit_lb267.csv\": 0.4,\n",
        "})"
      ],
      "metadata": {
        "id": "VE9IktmMlMT9"
      },
      "execution_count": null,
      "outputs": []
    },
    {
      "cell_type": "code",
      "source": [
        "submission = blend({\n",
        "    \"/content/submit_cv2_92.csv\": 0.2,\n",
        "    \"/content/submit_cv2_95.csv\": 0.2,\n",
        "    \"/content/submit_cv3_00.csv\": 0.15,\n",
        "    \"/content/submit_cv3_05.csv\": 0.15,\n",
        "    \"/content/submit_cv3_11.csv\": 0.15,\n",
        "    \"/content/submit_cv3_30.csv\": 0.15,\n",
        "})"
      ],
      "metadata": {
        "id": "hlVEpruU4NcV"
      },
      "execution_count": null,
      "outputs": []
    },
    {
      "cell_type": "code",
      "source": [
        "submission = blend({\n",
        "    '/content/submit_cv2_87.csv': 0.175,\n",
        "    \"/content/submit_cv2_92.csv\": 0.125,\n",
        "    \"/content/submit_cv2_923.csv\": 0.125,\n",
        "    \"/content/submit_cv2_95.csv\": 0.1,\n",
        "    \"/content/submit_cv3_00.csv\": 0.1,\n",
        "    \"/content/submit_cv3_05.csv\": 0.1,\n",
        "    \"/content/submit_cv3_11.csv\": 0.1,\n",
        "    \"/content/submit_cv2_90.csv\": 0.175,\n",
        "})"
      ],
      "metadata": {
        "id": "fsojbWc3_c0D"
      },
      "execution_count": null,
      "outputs": []
    },
    {
      "cell_type": "code",
      "source": [
        "submission = blend({\n",
        "    '/content/submit_cv2_87.csv': 0.2,\n",
        "    \"/content/submit_cv2_92.csv\": 0.125,\n",
        "    \"/content/submit_cv2_923.csv\": 0.125,\n",
        "    \"/content/submit_cv2_95.csv\": 0.1,\n",
        "    \"/content/submit_cv3_00.csv\": 0.1,\n",
        "    \"/content/submit_cv3_05.csv\": 0.1,\n",
        "    \"/content/submit_cv3_11.csv\": 0.075,\n",
        "    \"/content/submit_cv2_90.csv\": 0.175,\n",
        "})"
      ],
      "metadata": {
        "id": "P-xJ4WKpBPja"
      },
      "execution_count": null,
      "outputs": []
    },
    {
      "cell_type": "code",
      "source": [
        ""
      ],
      "metadata": {
        "id": "qxYu2dkzBsap"
      },
      "execution_count": null,
      "outputs": []
    },
    {
      "cell_type": "code",
      "source": [
        "submission = blend({\n",
        "    '/content/submit_cv2_87.csv': 0.125,\n",
        "    \"/content/submit_cv2_92.csv\": 0.125,\n",
        "    \"/content/submit_cv2_923.csv\": 0.125,\n",
        "    \"/content/submit_cv2_95.csv\": 0.125,\n",
        "    \"/content/submit_cv3_00.csv\": 0.125,\n",
        "    \"/content/submit_cv3_05.csv\": 0.125,\n",
        "    \"/content/submit_cv3_11.csv\": 0.125,\n",
        "    \"/content/submit_cv2_90.csv\": 0.125,\n",
        "})"
      ],
      "metadata": {
        "id": "YlGMB0rr6FuI"
      },
      "execution_count": null,
      "outputs": []
    },
    {
      "cell_type": "code",
      "source": [
        "submission = blend({\n",
        "    '/content/submit_cv2_87.csv': 0.2,\n",
        "    \"/content/submit_cv2_92.csv\": 0.2,\n",
        "    \"/content/submit_cv2_923.csv\": 0.1,\n",
        "    \"/content/submit_cv2_95.csv\": 0.1,\n",
        "    \"/content/submit_cv3_00.csv\": 0.1,\n",
        "    \"/content/submit_cv3_05.csv\": 0.1,\n",
        "    \"/content/submit_cv3_11.csv\": 0.1,\n",
        "    \"/content/submit_cv3_30.csv\": 0.1,\n",
        "})"
      ],
      "metadata": {
        "id": "FwGk_AXED-K8"
      },
      "execution_count": null,
      "outputs": []
    },
    {
      "cell_type": "code",
      "source": [
        "submission = blend({\n",
        "    \"/content/cauchy_test_CauchySoftforXiaomi_Softfor4_lb268.csv\": 0.3,\n",
        "    \"/content/rprtkv4_replace_outliers_th10.csv\": 0.2,\n",
        "    \"/content/submit_final_rtks.csv\": 0.5,\n",
        "})"
      ],
      "metadata": {
        "id": "GuROEDQsFvP0"
      },
      "execution_count": null,
      "outputs": []
    },
    {
      "cell_type": "code",
      "source": [
        "submission = blend({\n",
        "    \"/content/cauchy_test_CauchySoftforXiaomi_Softfor4_lb268.csv\": 0.3,\n",
        "    \"/content/rprtkv4_replace_outliers_th10.csv\": 0.1,\n",
        "    \"/content/submit_final_rtks_v2.csv\": 0.6,\n",
        "})"
      ],
      "metadata": {
        "id": "lbnW6RT6_9cj"
      },
      "execution_count": null,
      "outputs": []
    },
    {
      "cell_type": "code",
      "source": [
        "submission = blend({\n",
        "    \"/content/cauchy_test_CauchySoftforXiaomi_Softfor4_lb268.csv\": 0.3,\n",
        "    \"/content/rprtkv4_replace_outliers_th10.csv\": 0.1,\n",
        "    \"/content/submit_final_rtks_v3.csv\": 0.6,\n",
        "})"
      ],
      "metadata": {
        "id": "jEBbfWBHCL9i"
      },
      "execution_count": null,
      "outputs": []
    },
    {
      "cell_type": "code",
      "source": [
        "submission = blend({\n",
        "    \"/content/cauchy_test_CauchySoftforXiaomi_Softfor4_lb268.csv\": 0.35,\n",
        "    \"/content/rprtkv4_replace_outliers_th10.csv\": 0.1,\n",
        "    \"/content/submit_final_rtks_v3.csv\": 0.55,\n",
        "})"
      ],
      "metadata": {
        "id": "00B5aP8UGZwf"
      },
      "execution_count": null,
      "outputs": []
    },
    {
      "cell_type": "code",
      "source": [
        "submission = blend({\n",
        "    \"/content/cauchy_test_CauchySoftforXiaomi_Softfor4_lb268.csv\": 0.3,\n",
        "    \"/content/rprtkv4_replace_outliers_th10.csv\": 0.2,\n",
        "    \"/content/submit_final_rtks.csv\": 0.5,\n",
        "})"
      ],
      "metadata": {
        "id": "5bVdinRc7xn9"
      },
      "execution_count": null,
      "outputs": []
    },
    {
      "cell_type": "code",
      "source": [
        "submission = blend({\n",
        "    \"/content/cauchy_test_CauchySoftforXiaomi_Softfor4_lb268.csv\": 0.3,\n",
        "    \"/content/rprtkv4_replace_outliers_th10.csv\": 0.3,\n",
        "    \"/content/submission_8_rtk_0728.csv\": 0.4,\n",
        "})"
      ],
      "metadata": {
        "id": "6oSbMDG1KcRA"
      },
      "execution_count": null,
      "outputs": []
    },
    {
      "cell_type": "code",
      "source": [
        "sub = pd.read_csv('/content/sample_submission.csv')\n",
        "sub = sub.assign(LatitudeDegrees=submission.LatitudeDegrees, LongitudeDegrees=submission.LongitudeDegrees)"
      ],
      "metadata": {
        "id": "hpKcT-n0MDUg"
      },
      "execution_count": null,
      "outputs": []
    },
    {
      "cell_type": "code",
      "source": [
        "sub.to_csv(\"submission_ensemble_v7_0729.csv\", index=False)"
      ],
      "metadata": {
        "id": "IAvWTDoGIFQP"
      },
      "execution_count": null,
      "outputs": []
    },
    {
      "cell_type": "code",
      "source": [
        "sub.to_csv(\"submission_ensemble_v6_0729.csv\", index=False)"
      ],
      "metadata": {
        "id": "l9qRNI4WGlLn"
      },
      "execution_count": null,
      "outputs": []
    },
    {
      "cell_type": "code",
      "source": [
        "sub.to_csv(\"submission_ensemble_v5_0729.csv\", index=False)"
      ],
      "metadata": {
        "id": "5PjBS9NYDVKg"
      },
      "execution_count": null,
      "outputs": []
    },
    {
      "cell_type": "code",
      "source": [
        "sub.to_csv(\"submit_final_rtks_v3.csv\", index=False)"
      ],
      "metadata": {
        "id": "9RaKbsjcB68c"
      },
      "execution_count": null,
      "outputs": []
    },
    {
      "cell_type": "code",
      "source": [
        "sub.to_csv(\"submission_ensemble_v4_0729.csv\", index=False)"
      ],
      "metadata": {
        "id": "C_Jn7YToALir"
      },
      "execution_count": null,
      "outputs": []
    },
    {
      "cell_type": "code",
      "source": [
        "sub.to_csv(\"submit_final_rtks_v2.csv\", index=False)"
      ],
      "metadata": {
        "id": "6gtSZ15R_3Wj"
      },
      "execution_count": null,
      "outputs": []
    },
    {
      "cell_type": "code",
      "source": [
        "sub.to_csv(\"submission_ensemble_v3_0729.csv\", index=False)"
      ],
      "metadata": {
        "id": "47EfG11i83il"
      },
      "execution_count": null,
      "outputs": []
    },
    {
      "cell_type": "code",
      "source": [
        "sub.to_csv(\"submit_final_rtks.csv\", index=False)"
      ],
      "metadata": {
        "id": "Gi5I5SjQ6TTu"
      },
      "execution_count": null,
      "outputs": []
    },
    {
      "cell_type": "code",
      "source": [
        "sub.to_csv(\"submission_wls_rtk_0729.csv\", index=False, )"
      ],
      "metadata": {
        "id": "_lUK_-Wg3kn3"
      },
      "execution_count": null,
      "outputs": []
    },
    {
      "cell_type": "code",
      "source": [
        "sub.to_csv(\"submission_ensemble_v2_0728.csv\", index=False, )"
      ],
      "metadata": {
        "id": "CYQenmbxF9Ar"
      },
      "execution_count": null,
      "outputs": []
    },
    {
      "cell_type": "code",
      "source": [
        "sub.to_csv(\"submission_8_rtk_0728.csv\", index=False, encoding='utf-8')"
      ],
      "metadata": {
        "id": "aLaBl8M4ElTV"
      },
      "execution_count": null,
      "outputs": []
    },
    {
      "cell_type": "code",
      "source": [
        "sub.to_csv(\"submission_4_models_rtk_0727.csv\", index=False)"
      ],
      "metadata": {
        "id": "QFMmb9nbpurc"
      },
      "execution_count": null,
      "outputs": []
    },
    {
      "cell_type": "code",
      "source": [
        "sub.to_csv(\"submission_all_rtk.csv\", index=False)"
      ],
      "metadata": {
        "id": "RaBcIXBW4ja_"
      },
      "execution_count": null,
      "outputs": []
    },
    {
      "cell_type": "code",
      "source": [
        "sub.to_csv(\"submission_3models_330_365_lb300.csv\", index=False)"
      ],
      "metadata": {
        "id": "go5FLclLMDSt"
      },
      "execution_count": null,
      "outputs": []
    },
    {
      "cell_type": "code",
      "source": [
        "sub.to_csv(\"submission_3models_lb267_365_lb300_20220726.csv\", index=False)"
      ],
      "metadata": {
        "id": "u7XFcjoUlh7t"
      },
      "execution_count": null,
      "outputs": []
    },
    {
      "cell_type": "code",
      "source": [
        "ls"
      ],
      "metadata": {
        "colab": {
          "base_uri": "https://localhost:8080/"
        },
        "id": "8FgmBME4MDRH",
        "outputId": "144084b6-82eb-45a0-b329-d6d98d21839f"
      },
      "execution_count": null,
      "outputs": [
        {
          "output_type": "stream",
          "name": "stdout",
          "text": [
            "\u001b[0m\u001b[01;34m__pycache__\u001b[0m/                               submission_0716.csv\n",
            "rtklib_pp_by_RP_new_hypers_v3_lb2_478.csv  submission_public_nb_lb300.csv\n",
            "\u001b[01;34msample_data\u001b[0m/                               wgs_ecef.py\n",
            "sample_submission.csv\n"
          ]
        }
      ]
    },
    {
      "cell_type": "code",
      "source": [
        ""
      ],
      "metadata": {
        "id": "PFe04Su9OGd-"
      },
      "execution_count": null,
      "outputs": []
    }
  ]
}